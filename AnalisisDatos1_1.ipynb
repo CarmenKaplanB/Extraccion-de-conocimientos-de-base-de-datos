{
  "nbformat": 4,
  "nbformat_minor": 0,
  "metadata": {
    "colab": {
      "name": "AnalisisDatos1.1.ipynb",
      "provenance": [],
      "authorship_tag": "ABX9TyO65yj19spvBDZ5SptvO6T/",
      "include_colab_link": true
    },
    "kernelspec": {
      "name": "python3",
      "display_name": "Python 3"
    },
    "language_info": {
      "name": "python"
    }
  },
  "cells": [
    {
      "cell_type": "markdown",
      "metadata": {
        "id": "view-in-github",
        "colab_type": "text"
      },
      "source": [
        "<a href=\"https://colab.research.google.com/github/MariaDelCarmenHernandezDiaz/Extraccion-de-conocimientos-de-base-de-datos/blob/main/AnalisisDatos1_1.ipynb\" target=\"_parent\"><img src=\"https://colab.research.google.com/assets/colab-badge.svg\" alt=\"Open In Colab\"/></a>"
      ]
    },
    {
      "cell_type": "markdown",
      "metadata": {
        "id": "QPvQu9jLtBho"
      },
      "source": [
        "# **Explore y analice datos con Python**\n",
        "\n",
        "`Intermedio` `Científico de datos` `Código de Visual Studio`\n",
        "\n",
        "![An image](https://docs.microsoft.com/learn/achievements/explore-and-analyze-data-with-python-social.png)\n",
        "\n",
        "\n",
        "*   Elemento de lista\n",
        "*   Elemento de lista\n",
        "\n",
        "\n",
        "La exploración y el análisis de datos son el núcleo de la ciencia de datos. Los científicos de datos requieren habilidades en lenguajes como Python para explorar, visualizar y manipular datos.\n",
        "\n",
        "\n",
        "### Objetivos de aprendizaje.\n",
        "\n",
        "> En este módulo, aprenderá:\n",
        "\n",
        "* Tareas comunes de exploración y análisis de datos.\n",
        "* Cómo usar paquetes de Python como NumPy, Pandas y Matplotlib para analizar datos.\n",
        "\n",
        "### Prerrequisitos.\n",
        "\n",
        "> En este módulo, aprenderá:\n",
        "\n",
        "* Conocimiento de matemáticas básicas.\n",
        "* Alguna experiencia programando en Python.\n",
        "\n",
        "### Temario.\n",
        "\n",
        "> Introduccion\n",
        "\n",
        "> Explore datos con NumPy y Pandas\n",
        "\n",
        "> Ejercicio: explorar datos con NumPy y Pandas\n",
        "\n",
        "> Visualizar datos\n",
        "\n",
        "> Ejercicio: visualizar datos con Matplotlib\n",
        "\n",
        "> Examinar datos del mundo real\n",
        "\n",
        "> Ejercicio: examinar datos del mundo real\n",
        "\n",
        "> Verificación de conocimientos\n",
        "\n",
        "> Resumen\n",
        "\n",
        "[A link](https://www.google.com)\t\n",
        "\t"
      ]
    },
    {
      "cell_type": "markdown",
      "metadata": {
        "id": "WQC65yVKvlN3"
      },
      "source": [
        ""
      ]
    }
  ]
}